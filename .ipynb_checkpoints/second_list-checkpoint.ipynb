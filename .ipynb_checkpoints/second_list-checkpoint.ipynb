{
 "cells": [
  {
   "cell_type": "code",
   "execution_count": 130,
   "id": "75f7b377",
   "metadata": {},
   "outputs": [],
   "source": [
    "import numpy as np\n",
    "import matplotlib.pyplot as plt\n",
    "import scipy.signal as signal\n",
    "import scipy.fft as fft"
   ]
  },
  {
   "cell_type": "markdown",
   "id": "2aabdd0b",
   "metadata": {},
   "source": [
    "Usando um esquema 64-ário, transmita a palavra “Raio”:"
   ]
  },
  {
   "cell_type": "code",
   "execution_count": 6,
   "id": "1f6bd916",
   "metadata": {},
   "outputs": [],
   "source": [
    "word = 'Raio'"
   ]
  },
  {
   "cell_type": "markdown",
   "id": "295d3247",
   "metadata": {},
   "source": [
    "Primeiro, codifique a palavra usando a codificação ASCII de 8 bits, mais um bit de\n",
    "paridade. Quantos bits existem na mensagem?"
   ]
  },
  {
   "cell_type": "code",
   "execution_count": 24,
   "id": "0432bfc7",
   "metadata": {},
   "outputs": [],
   "source": [
    "def gen_parity(bits):\n",
    "    parity_sum = 0\n",
    "    for bit in bits:\n",
    "        parity_sum += int(bit)\n",
    "    parity_bit = parity_sum % 2\n",
    "    \n",
    "    return bits + str(parity_bit)"
   ]
  },
  {
   "cell_type": "code",
   "execution_count": 25,
   "id": "a4892105",
   "metadata": {},
   "outputs": [],
   "source": [
    "bit_list = []\n",
    "for symbol in word:\n",
    "    symbol_value = ord(symbol)\n",
    "    bit_repr = bin(symbol_value)\n",
    "    bit_list.append(bit_repr.replace('b', ''))"
   ]
  },
  {
   "cell_type": "code",
   "execution_count": 30,
   "id": "334cfe1f",
   "metadata": {},
   "outputs": [],
   "source": [
    "parity_bit_list = list(map(gen_parity, bit_list))"
   ]
  },
  {
   "cell_type": "code",
   "execution_count": 31,
   "id": "11fa232b",
   "metadata": {},
   "outputs": [
    {
     "data": {
      "text/plain": [
       "['01010010', '01100001', '01101001', '01101111']"
      ]
     },
     "execution_count": 31,
     "metadata": {},
     "output_type": "execute_result"
    }
   ],
   "source": [
    "bit_list"
   ]
  },
  {
   "cell_type": "code",
   "execution_count": 32,
   "id": "29cf3112",
   "metadata": {},
   "outputs": [
    {
     "data": {
      "text/plain": [
       "['010100101', '011000011', '011010010', '011011110']"
      ]
     },
     "execution_count": 32,
     "metadata": {},
     "output_type": "execute_result"
    }
   ],
   "source": [
    "parity_bit_list"
   ]
  },
  {
   "cell_type": "markdown",
   "id": "5ce79d79",
   "metadata": {},
   "source": [
    "Particione a sequência em segmentos com k = 4 bits. Represente cada partição como\n",
    "um número hexadecimal. Quantos números são necessários para representar a\n",
    "mensagem?"
   ]
  },
  {
   "cell_type": "code",
   "execution_count": 40,
   "id": "ee6ac787",
   "metadata": {},
   "outputs": [],
   "source": [
    "def generate_sequence(bit_list):\n",
    "    sequence = ''\n",
    "    for bits in bit_list:\n",
    "        sequence = sequence + bits\n",
    "    return sequence"
   ]
  },
  {
   "cell_type": "code",
   "execution_count": 75,
   "id": "42dc0360",
   "metadata": {},
   "outputs": [],
   "source": [
    "def partitionate_sequence(sequence, k=4):\n",
    "    if len(sequence) % k != 0:\n",
    "        raise(Exception(f\"{k} doesn't evenly break the sequence\"))\n",
    "    num_splits = len(sequence) / k\n",
    "    segment_list = []\n",
    "    count = 0 \n",
    "    begin_window, end_window = 0, k\n",
    "    while count < num_splits:\n",
    "        segment = sequence[begin_window:end_window]\n",
    "        segment_hex = hex(int(segment))\n",
    "        segment_list.append(segment_hex.replace('x', ''))\n",
    "        begin_window, end_window = end_window, end_window + k\n",
    "        count += 1\n",
    "    return segment_list"
   ]
  },
  {
   "cell_type": "code",
   "execution_count": 49,
   "id": "9abdb6cc",
   "metadata": {},
   "outputs": [],
   "source": [
    "sequence = generate_sequence(parity_bit_list)"
   ]
  },
  {
   "cell_type": "code",
   "execution_count": 57,
   "id": "dc2c11c2",
   "metadata": {},
   "outputs": [
    {
     "data": {
      "text/plain": [
       "'010100101011000011011010010011011110'"
      ]
     },
     "execution_count": 57,
     "metadata": {},
     "output_type": "execute_result"
    }
   ],
   "source": [
    "sequence"
   ]
  },
  {
   "cell_type": "code",
   "execution_count": 76,
   "id": "8459f352",
   "metadata": {},
   "outputs": [],
   "source": [
    "segment_list = partitionate_sequence(sequence)"
   ]
  },
  {
   "cell_type": "code",
   "execution_count": 77,
   "id": "205451a9",
   "metadata": {},
   "outputs": [
    {
     "data": {
      "text/plain": [
       "['065', '0a', '03f3', '00', '044d', '03f2', '064', '044d', '0456']"
      ]
     },
     "execution_count": 77,
     "metadata": {},
     "output_type": "execute_result"
    }
   ],
   "source": [
    "segment_list"
   ]
  },
  {
   "cell_type": "markdown",
   "id": "01ba6cba",
   "metadata": {},
   "source": [
    "Suponha que um texto com 800 caracteres deva ser transmitido em um período de 2\n",
    "segundos. Cada caractere é representado por código ASCII de 7 bits, mais um bit de\n",
    "paridade. Determine:"
   ]
  },
  {
   "cell_type": "markdown",
   "id": "ebd3d23e",
   "metadata": {},
   "source": [
    "Qual a taxa de bits por segundo para que os caracteres sejam transmitidos em tempo\n",
    "real (ou seja, dentro dos quatro segundos)? Qual a largura de banda correspondente,\n",
    "assumindo que pulsos retangulares são utilizados em uma transmissão binária. Dica:\n",
    "para pulsos retangulares, a largura de banda é assumida ser numericamente igual à taxa\n",
    "de símbolos."
   ]
  },
  {
   "cell_type": "code",
   "execution_count": 85,
   "id": "ad053815",
   "metadata": {},
   "outputs": [],
   "source": [
    "NUM_CHARACTERS = 800\n",
    "CHARACTER_LENGTH = 7 + 1\n",
    "NUM_BITS = NUM_CHARACTERS * CHARACTER_LENGTH\n",
    "bit_rate = NUM_BITS / 4\n",
    "symbol_rate = "
   ]
  },
  {
   "cell_type": "code",
   "execution_count": 86,
   "id": "5d148cae",
   "metadata": {},
   "outputs": [
    {
     "data": {
      "text/plain": [
       "1600.0"
      ]
     },
     "execution_count": 86,
     "metadata": {},
     "output_type": "execute_result"
    }
   ],
   "source": [
    "bit_rate"
   ]
  },
  {
   "cell_type": "code",
   "execution_count": null,
   "id": "0242d1b1",
   "metadata": {},
   "outputs": [],
   "source": [
    "symbol_rate = "
   ]
  },
  {
   "cell_type": "markdown",
   "id": "3b8db95c",
   "metadata": {},
   "source": [
    "Use o método da convolução para mostrar que o efeito de sub-amostrar a forma de onda\n",
    "$x(t) = \\cos(2\\pi f_{0}t)$ usando uma frequência de amostragem de $fs = \\dfrac{3}{2} f_{0}$."
   ]
  },
  {
   "cell_type": "code",
   "execution_count": 139,
   "id": "1c0ed760",
   "metadata": {},
   "outputs": [],
   "source": [
    "t = np.linspace(0, 1, num=100)\n",
    "base_frequency = 4 / 3\n",
    "sample_frequency = 1.5 * base_frequency\n",
    "x = np.cos(2 * np.pi * base_frequency * t)\n",
    "X = fft.fft(x)"
   ]
  },
  {
   "cell_type": "code",
   "execution_count": 153,
   "id": "136c3560",
   "metadata": {},
   "outputs": [
    {
     "data": {
      "text/plain": [
       "Text(0.5, 1.0, 'Signal in Frequency Domain')"
      ]
     },
     "execution_count": 153,
     "metadata": {},
     "output_type": "execute_result"
    },
    {
     "data": {
      "image/png": "[encoded data removed]",
      "text/plain": [
       "<Figure size 1500x500 with 2 Axes>"
      ]
     },
     "metadata": {},
     "output_type": "display_data"
    }
   ],
   "source": [
    "fig, ax = plt.subplots(ncols = 2, figsize=(15,5))\n",
    "\n",
    "ax[0].plot(t, x)\n",
    "ax[0].set_xlabel('Amplitude')\n",
    "ax[0].set_ylabel('Time')\n",
    "ax[0].set_title('Signal in Time Domain')\n",
    "\n",
    "ax[1].plot(t, abs(X))\n",
    "ax[1].set_xlabel('Frequency')\n",
    "ax[1].set_ylabel('Time')\n",
    "ax[1].set_title('Signal in Frequency Domain')"
   ]
  },
  {
   "cell_type": "code",
   "execution_count": 122,
   "id": "f2b2fff3",
   "metadata": {},
   "outputs": [],
   "source": [
    "samples = 100\n",
    "sample_period = round(1 / sample_frequency, 2)\n",
    "impulse_locations = []\n",
    "for sample in range(samples):\n",
    "    impulse_locations.append(sample)\n",
    "#impulse_train = scipy.signal.unit_impulse(samples, [])\n",
    "idx = 0"
   ]
  },
  {
   "cell_type": "code",
   "execution_count": 123,
   "id": "c79958d3",
   "metadata": {},
   "outputs": [
    {
     "data": {
      "text/plain": [
       "0.5"
      ]
     },
     "execution_count": 123,
     "metadata": {},
     "output_type": "execute_result"
    }
   ],
   "source": [
    "sample_period"
   ]
  },
  {
   "cell_type": "code",
   "execution_count": null,
   "id": "29ce9770",
   "metadata": {},
   "outputs": [],
   "source": []
  }
 ],
 "metadata": {
  "kernelspec": {
   "display_name": "federated_learning",
   "language": "python",
   "name": "federated_learning"
  },
  "language_info": {
   "codemirror_mode": {
    "name": "ipython",
    "version": 3
   },
   "file_extension": ".py",
   "mimetype": "text/x-python",
   "name": "python",
   "nbconvert_exporter": "python",
   "pygments_lexer": "ipython3",
   "version": "3.7.10"
  }
 },
 "nbformat": 4,
 "nbformat_minor": 5
}
